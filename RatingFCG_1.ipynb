{
 "cells": [
  {
   "cell_type": "code",
   "execution_count": 42,
   "metadata": {
    "collapsed": true
   },
   "outputs": [],
   "source": [
    "import pandas as pd\n",
    "import numpy as np\n",
    "# Display up to 60 columns of a dataframe\n",
    "pd.set_option('display.max_columns', 100)\n",
    "\n",
    "# Matplotlib visualization\n",
    "import matplotlib.pyplot as plt\n",
    "%matplotlib inline\n",
    "\n",
    "# Set default font size\n",
    "plt.rcParams['font.size'] = 12\n",
    "\n",
    "# Internal ipython tool for setting figure size\n",
    "from IPython.core.pylabtools import figsize\n",
    "\n",
    "# Seaborn for visualization\n",
    "import seaborn as sns\n",
    "sns.set(font_scale = 1)\n",
    "\n",
    "# Splitting data into training and testing\n",
    "from sklearn.model_selection import train_test_split\n",
    "\n",
    "# Imputing missing values and scaling values\n",
    "from sklearn.preprocessing import Imputer, MinMaxScaler\n",
    "\n",
    "# Machine Learning Models\n",
    "from sklearn.linear_model import LinearRegression\n",
    "from sklearn.linear_model import LogisticRegression\n",
    "from sklearn.linear_model import SGDClassifier, SGDRegressor\n",
    "from sklearn.model_selection import cross_val_score, cross_val_predict\n",
    "from sklearn.model_selection import train_test_split\n",
    "from sklearn.model_selection import GridSearchCV\n",
    "from sklearn.ensemble import RandomForestRegressor, GradientBoostingRegressor\n",
    "from sklearn.ensemble import RandomForestClassifier, GradientBoostingClassifier\n",
    "from sklearn.svm import SVR\n",
    "from sklearn.svm import LinearSVR\n",
    "\n",
    "from sklearn.neighbors.nearest_centroid import NearestCentroid\n",
    "\n",
    "from sklearn.neighbors import KNeighborsRegressor\n",
    "from sklearn.metrics import confusion_matrix\n",
    "from sklearn.metrics import precision_score\n",
    "from sklearn.metrics import recall_score\n",
    "from sklearn.metrics import precision_recall_curve\n",
    "from sklearn.metrics import f1_score\n",
    "from sklearn.metrics import roc_curve\n",
    "from sklearn.metrics import roc_auc_score\n",
    "\n",
    "# Hyperparameter tuning\n",
    "from sklearn.model_selection import RandomizedSearchCV, GridSearchCV\n",
    "\n",
    "from sklearn.metrics import confusion_matrix\n",
    "\n",
    "import pandas.core.algorithms as algos"
   ]
  },
  {
   "cell_type": "code",
   "execution_count": 507,
   "metadata": {},
   "outputs": [
    {
     "name": "stdout",
     "output_type": "stream",
     "text": [
      "<class 'pandas.core.frame.DataFrame'>\n",
      "RangeIndex: 150000 entries, 0 to 149999\n",
      "Data columns (total 11 columns):\n",
      "SeriousDlqin2yrs                        150000 non-null int64\n",
      "RevolvingUtilizationOfUnsecuredLines    150000 non-null float64\n",
      "age                                     150000 non-null int64\n",
      "NumberOfTime30-59DaysPastDueNotWorse    150000 non-null int64\n",
      "DebtRatio                               150000 non-null float64\n",
      "MonthlyIncome                           120269 non-null float64\n",
      "NumberOfOpenCreditLinesAndLoans         150000 non-null int64\n",
      "NumberOfTimes90DaysLate                 150000 non-null int64\n",
      "NumberRealEstateLoansOrLines            150000 non-null int64\n",
      "NumberOfTime60-89DaysPastDueNotWorse    150000 non-null int64\n",
      "NumberOfDependents                      146076 non-null float64\n",
      "dtypes: float64(4), int64(7)\n",
      "memory usage: 12.6 MB\n"
     ]
    }
   ],
   "source": [
    "df = pd.read_csv('RatingData/cs-training.csv').drop('Unnamed: 0', axis = 1)\n",
    "df.info()"
   ]
  },
  {
   "cell_type": "code",
   "execution_count": 104,
   "metadata": {},
   "outputs": [],
   "source": [
    "%run woe_iv.py"
   ]
  },
  {
   "cell_type": "code",
   "execution_count": 508,
   "metadata": {},
   "outputs": [
    {
     "data": {
      "text/html": [
       "<div>\n",
       "<style>\n",
       "    .dataframe thead tr:only-child th {\n",
       "        text-align: right;\n",
       "    }\n",
       "\n",
       "    .dataframe thead th {\n",
       "        text-align: left;\n",
       "    }\n",
       "\n",
       "    .dataframe tbody tr th {\n",
       "        vertical-align: top;\n",
       "    }\n",
       "</style>\n",
       "<table border=\"1\" class=\"dataframe\">\n",
       "  <thead>\n",
       "    <tr style=\"text-align: right;\">\n",
       "      <th></th>\n",
       "      <th>VAR_NAME</th>\n",
       "      <th>MIN_VALUE</th>\n",
       "      <th>MAX_VALUE</th>\n",
       "      <th>COUNT</th>\n",
       "      <th>EVENT</th>\n",
       "      <th>EVENT_RATE</th>\n",
       "      <th>NONEVENT</th>\n",
       "      <th>NON_EVENT_RATE</th>\n",
       "      <th>WOE</th>\n",
       "      <th>IV</th>\n",
       "    </tr>\n",
       "  </thead>\n",
       "  <tbody>\n",
       "    <tr>\n",
       "      <th>0</th>\n",
       "      <td>RevolvingUtilizationOfUnsecuredLines</td>\n",
       "      <td>0.000000</td>\n",
       "      <td>0.156417</td>\n",
       "      <td>50000</td>\n",
       "      <td>1061.0</td>\n",
       "      <td>0.021336</td>\n",
       "      <td>48939.0</td>\n",
       "      <td>0.488067</td>\n",
       "      <td>-3.130075</td>\n",
       "      <td>5.505724</td>\n",
       "    </tr>\n",
       "    <tr>\n",
       "      <th>1</th>\n",
       "      <td>RevolvingUtilizationOfUnsecuredLines</td>\n",
       "      <td>0.156434</td>\n",
       "      <td>1.000000</td>\n",
       "      <td>55308</td>\n",
       "      <td>5482.0</td>\n",
       "      <td>0.110237</td>\n",
       "      <td>49826.0</td>\n",
       "      <td>0.496913</td>\n",
       "      <td>-1.505779</td>\n",
       "      <td>5.505724</td>\n",
       "    </tr>\n",
       "    <tr>\n",
       "      <th>2</th>\n",
       "      <td>RevolvingUtilizationOfUnsecuredLines</td>\n",
       "      <td>1.000000</td>\n",
       "      <td>50708.000000</td>\n",
       "      <td>44692</td>\n",
       "      <td>43186.0</td>\n",
       "      <td>0.868427</td>\n",
       "      <td>1506.0</td>\n",
       "      <td>0.015019</td>\n",
       "      <td>4.057347</td>\n",
       "      <td>5.505724</td>\n",
       "    </tr>\n",
       "    <tr>\n",
       "      <th>3</th>\n",
       "      <td>age</td>\n",
       "      <td>0.000000</td>\n",
       "      <td>1.000000</td>\n",
       "      <td>42288</td>\n",
       "      <td>42287.0</td>\n",
       "      <td>0.850349</td>\n",
       "      <td>1.0</td>\n",
       "      <td>0.000010</td>\n",
       "      <td>11.353523</td>\n",
       "      <td>11.375168</td>\n",
       "    </tr>\n",
       "    <tr>\n",
       "      <th>4</th>\n",
       "      <td>age</td>\n",
       "      <td>21.000000</td>\n",
       "      <td>24.000000</td>\n",
       "      <td>695</td>\n",
       "      <td>99.0</td>\n",
       "      <td>0.001991</td>\n",
       "      <td>596.0</td>\n",
       "      <td>0.005944</td>\n",
       "      <td>-1.093833</td>\n",
       "      <td>11.375168</td>\n",
       "    </tr>\n",
       "    <tr>\n",
       "      <th>5</th>\n",
       "      <td>age</td>\n",
       "      <td>25.000000</td>\n",
       "      <td>40.000000</td>\n",
       "      <td>22390</td>\n",
       "      <td>2285.0</td>\n",
       "      <td>0.045949</td>\n",
       "      <td>20105.0</td>\n",
       "      <td>0.200507</td>\n",
       "      <td>-1.473314</td>\n",
       "      <td>11.375168</td>\n",
       "    </tr>\n",
       "    <tr>\n",
       "      <th>6</th>\n",
       "      <td>age</td>\n",
       "      <td>41.000000</td>\n",
       "      <td>48.000000</td>\n",
       "      <td>21533</td>\n",
       "      <td>1815.0</td>\n",
       "      <td>0.036498</td>\n",
       "      <td>19718.0</td>\n",
       "      <td>0.196647</td>\n",
       "      <td>-1.684158</td>\n",
       "      <td>11.375168</td>\n",
       "    </tr>\n",
       "    <tr>\n",
       "      <th>7</th>\n",
       "      <td>age</td>\n",
       "      <td>49.000000</td>\n",
       "      <td>56.000000</td>\n",
       "      <td>22815</td>\n",
       "      <td>1646.0</td>\n",
       "      <td>0.033099</td>\n",
       "      <td>21169.0</td>\n",
       "      <td>0.211118</td>\n",
       "      <td>-1.852901</td>\n",
       "      <td>11.375168</td>\n",
       "    </tr>\n",
       "    <tr>\n",
       "      <th>8</th>\n",
       "      <td>age</td>\n",
       "      <td>57.000000</td>\n",
       "      <td>64.000000</td>\n",
       "      <td>20533</td>\n",
       "      <td>980.0</td>\n",
       "      <td>0.019707</td>\n",
       "      <td>19553.0</td>\n",
       "      <td>0.195002</td>\n",
       "      <td>-2.292043</td>\n",
       "      <td>11.375168</td>\n",
       "    </tr>\n",
       "    <tr>\n",
       "      <th>9</th>\n",
       "      <td>age</td>\n",
       "      <td>65.000000</td>\n",
       "      <td>109.000000</td>\n",
       "      <td>19746</td>\n",
       "      <td>617.0</td>\n",
       "      <td>0.012407</td>\n",
       "      <td>19129.0</td>\n",
       "      <td>0.190773</td>\n",
       "      <td>-2.732804</td>\n",
       "      <td>11.375168</td>\n",
       "    </tr>\n",
       "    <tr>\n",
       "      <th>10</th>\n",
       "      <td>NumberOfTime30-59DaysPastDueNotWorse</td>\n",
       "      <td>0.000000</td>\n",
       "      <td>1.000000</td>\n",
       "      <td>143717</td>\n",
       "      <td>47689.0</td>\n",
       "      <td>0.958978</td>\n",
       "      <td>96028.0</td>\n",
       "      <td>0.957685</td>\n",
       "      <td>0.001349</td>\n",
       "      <td>0.000042</td>\n",
       "    </tr>\n",
       "    <tr>\n",
       "      <th>11</th>\n",
       "      <td>NumberOfTime30-59DaysPastDueNotWorse</td>\n",
       "      <td>2.000000</td>\n",
       "      <td>98.000000</td>\n",
       "      <td>6283</td>\n",
       "      <td>2040.0</td>\n",
       "      <td>0.041022</td>\n",
       "      <td>4243.0</td>\n",
       "      <td>0.042315</td>\n",
       "      <td>-0.031033</td>\n",
       "      <td>0.000042</td>\n",
       "    </tr>\n",
       "    <tr>\n",
       "      <th>12</th>\n",
       "      <td>DebtRatio</td>\n",
       "      <td>0.200000</td>\n",
       "      <td>0.394631</td>\n",
       "      <td>37500</td>\n",
       "      <td>2104.0</td>\n",
       "      <td>0.042309</td>\n",
       "      <td>35396.0</td>\n",
       "      <td>0.353003</td>\n",
       "      <td>-2.121470</td>\n",
       "      <td>1.832349</td>\n",
       "    </tr>\n",
       "    <tr>\n",
       "      <th>13</th>\n",
       "      <td>DebtRatio</td>\n",
       "      <td>0.394645</td>\n",
       "      <td>1.000000</td>\n",
       "      <td>77363</td>\n",
       "      <td>45334.0</td>\n",
       "      <td>0.911621</td>\n",
       "      <td>32029.0</td>\n",
       "      <td>0.319424</td>\n",
       "      <td>1.048704</td>\n",
       "      <td>1.832349</td>\n",
       "    </tr>\n",
       "    <tr>\n",
       "      <th>14</th>\n",
       "      <td>DebtRatio</td>\n",
       "      <td>1.000500</td>\n",
       "      <td>329664.000000</td>\n",
       "      <td>35137</td>\n",
       "      <td>2291.0</td>\n",
       "      <td>0.046070</td>\n",
       "      <td>32846.0</td>\n",
       "      <td>0.327572</td>\n",
       "      <td>-1.961553</td>\n",
       "      <td>1.832349</td>\n",
       "    </tr>\n",
       "    <tr>\n",
       "      <th>15</th>\n",
       "      <td>MonthlyIncome</td>\n",
       "      <td>0.000000</td>\n",
       "      <td>1.000000</td>\n",
       "      <td>44385</td>\n",
       "      <td>42361.0</td>\n",
       "      <td>0.851837</td>\n",
       "      <td>2024.0</td>\n",
       "      <td>0.020185</td>\n",
       "      <td>3.742441</td>\n",
       "      <td>4.723262</td>\n",
       "    </tr>\n",
       "    <tr>\n",
       "      <th>16</th>\n",
       "      <td>MonthlyIncome</td>\n",
       "      <td>2.000000</td>\n",
       "      <td>3302.000000</td>\n",
       "      <td>16563</td>\n",
       "      <td>1685.0</td>\n",
       "      <td>0.033884</td>\n",
       "      <td>14878.0</td>\n",
       "      <td>0.148378</td>\n",
       "      <td>-1.476830</td>\n",
       "      <td>4.723262</td>\n",
       "    </tr>\n",
       "    <tr>\n",
       "      <th>17</th>\n",
       "      <td>MonthlyIncome</td>\n",
       "      <td>3303.000000</td>\n",
       "      <td>6526.000000</td>\n",
       "      <td>30470</td>\n",
       "      <td>2459.0</td>\n",
       "      <td>0.049448</td>\n",
       "      <td>28011.0</td>\n",
       "      <td>0.279353</td>\n",
       "      <td>-1.731554</td>\n",
       "      <td>4.723262</td>\n",
       "    </tr>\n",
       "    <tr>\n",
       "      <th>18</th>\n",
       "      <td>MonthlyIncome</td>\n",
       "      <td>6527.000000</td>\n",
       "      <td>100000.000000</td>\n",
       "      <td>30473</td>\n",
       "      <td>1664.0</td>\n",
       "      <td>0.033461</td>\n",
       "      <td>28809.0</td>\n",
       "      <td>0.287311</td>\n",
       "      <td>-2.150175</td>\n",
       "      <td>4.723262</td>\n",
       "    </tr>\n",
       "    <tr>\n",
       "      <th>19</th>\n",
       "      <td>MonthlyIncome</td>\n",
       "      <td>NaN</td>\n",
       "      <td>NaN</td>\n",
       "      <td>28109</td>\n",
       "      <td>1560.0</td>\n",
       "      <td>0.031370</td>\n",
       "      <td>26549.0</td>\n",
       "      <td>0.264772</td>\n",
       "      <td>-2.133018</td>\n",
       "      <td>4.723262</td>\n",
       "    </tr>\n",
       "    <tr>\n",
       "      <th>20</th>\n",
       "      <td>NumberOfOpenCreditLinesAndLoans</td>\n",
       "      <td>0.000000</td>\n",
       "      <td>1.000000</td>\n",
       "      <td>44216</td>\n",
       "      <td>42629.0</td>\n",
       "      <td>0.857226</td>\n",
       "      <td>1587.0</td>\n",
       "      <td>0.015827</td>\n",
       "      <td>3.991978</td>\n",
       "      <td>4.987688</td>\n",
       "    </tr>\n",
       "    <tr>\n",
       "      <th>21</th>\n",
       "      <td>NumberOfOpenCreditLinesAndLoans</td>\n",
       "      <td>2.000000</td>\n",
       "      <td>6.000000</td>\n",
       "      <td>32498</td>\n",
       "      <td>2381.0</td>\n",
       "      <td>0.047880</td>\n",
       "      <td>30117.0</td>\n",
       "      <td>0.300356</td>\n",
       "      <td>-1.836281</td>\n",
       "      <td>4.987688</td>\n",
       "    </tr>\n",
       "    <tr>\n",
       "      <th>22</th>\n",
       "      <td>NumberOfOpenCreditLinesAndLoans</td>\n",
       "      <td>7.000000</td>\n",
       "      <td>10.000000</td>\n",
       "      <td>36459</td>\n",
       "      <td>2184.0</td>\n",
       "      <td>0.043918</td>\n",
       "      <td>34275.0</td>\n",
       "      <td>0.341824</td>\n",
       "      <td>-2.051970</td>\n",
       "      <td>4.987688</td>\n",
       "    </tr>\n",
       "    <tr>\n",
       "      <th>23</th>\n",
       "      <td>NumberOfOpenCreditLinesAndLoans</td>\n",
       "      <td>11.000000</td>\n",
       "      <td>58.000000</td>\n",
       "      <td>36827</td>\n",
       "      <td>2535.0</td>\n",
       "      <td>0.050976</td>\n",
       "      <td>34292.0</td>\n",
       "      <td>0.341993</td>\n",
       "      <td>-1.903430</td>\n",
       "      <td>4.987688</td>\n",
       "    </tr>\n",
       "    <tr>\n",
       "      <th>24</th>\n",
       "      <td>NumberOfTimes90DaysLate</td>\n",
       "      <td>0.000000</td>\n",
       "      <td>1.000000</td>\n",
       "      <td>148119</td>\n",
       "      <td>48626.0</td>\n",
       "      <td>0.977820</td>\n",
       "      <td>99493.0</td>\n",
       "      <td>0.992241</td>\n",
       "      <td>-0.014641</td>\n",
       "      <td>0.015359</td>\n",
       "    </tr>\n",
       "    <tr>\n",
       "      <th>25</th>\n",
       "      <td>NumberOfTimes90DaysLate</td>\n",
       "      <td>2.000000</td>\n",
       "      <td>98.000000</td>\n",
       "      <td>1881</td>\n",
       "      <td>1103.0</td>\n",
       "      <td>0.022180</td>\n",
       "      <td>778.0</td>\n",
       "      <td>0.007759</td>\n",
       "      <td>1.050351</td>\n",
       "      <td>0.015359</td>\n",
       "    </tr>\n",
       "    <tr>\n",
       "      <th>26</th>\n",
       "      <td>NumberRealEstateLoansOrLines</td>\n",
       "      <td>0.000000</td>\n",
       "      <td>1.000000</td>\n",
       "      <td>110692</td>\n",
       "      <td>47177.0</td>\n",
       "      <td>0.948682</td>\n",
       "      <td>63515.0</td>\n",
       "      <td>0.633433</td>\n",
       "      <td>0.403919</td>\n",
       "      <td>0.754500</td>\n",
       "    </tr>\n",
       "    <tr>\n",
       "      <th>27</th>\n",
       "      <td>NumberRealEstateLoansOrLines</td>\n",
       "      <td>2.000000</td>\n",
       "      <td>2.000000</td>\n",
       "      <td>29583</td>\n",
       "      <td>1717.0</td>\n",
       "      <td>0.034527</td>\n",
       "      <td>27866.0</td>\n",
       "      <td>0.277907</td>\n",
       "      <td>-2.085540</td>\n",
       "      <td>0.754500</td>\n",
       "    </tr>\n",
       "    <tr>\n",
       "      <th>28</th>\n",
       "      <td>NumberRealEstateLoansOrLines</td>\n",
       "      <td>3.000000</td>\n",
       "      <td>54.000000</td>\n",
       "      <td>9725</td>\n",
       "      <td>835.0</td>\n",
       "      <td>0.016791</td>\n",
       "      <td>8890.0</td>\n",
       "      <td>0.088660</td>\n",
       "      <td>-1.663962</td>\n",
       "      <td>0.754500</td>\n",
       "    </tr>\n",
       "    <tr>\n",
       "      <th>29</th>\n",
       "      <td>NumberOfTime60-89DaysPastDueNotWorse</td>\n",
       "      <td>0.000000</td>\n",
       "      <td>1.000000</td>\n",
       "      <td>148704</td>\n",
       "      <td>49013.0</td>\n",
       "      <td>0.985602</td>\n",
       "      <td>99691.0</td>\n",
       "      <td>0.994216</td>\n",
       "      <td>-0.008702</td>\n",
       "      <td>0.007930</td>\n",
       "    </tr>\n",
       "    <tr>\n",
       "      <th>30</th>\n",
       "      <td>NumberOfTime60-89DaysPastDueNotWorse</td>\n",
       "      <td>2.000000</td>\n",
       "      <td>98.000000</td>\n",
       "      <td>1296</td>\n",
       "      <td>716.0</td>\n",
       "      <td>0.014398</td>\n",
       "      <td>580.0</td>\n",
       "      <td>0.005784</td>\n",
       "      <td>0.911940</td>\n",
       "      <td>0.007930</td>\n",
       "    </tr>\n",
       "    <tr>\n",
       "      <th>31</th>\n",
       "      <td>NumberOfDependents</td>\n",
       "      <td>0.000000</td>\n",
       "      <td>1.000000</td>\n",
       "      <td>121230</td>\n",
       "      <td>47460.0</td>\n",
       "      <td>0.954373</td>\n",
       "      <td>73770.0</td>\n",
       "      <td>0.735706</td>\n",
       "      <td>0.260223</td>\n",
       "      <td>0.446420</td>\n",
       "    </tr>\n",
       "    <tr>\n",
       "      <th>32</th>\n",
       "      <td>NumberOfDependents</td>\n",
       "      <td>2.000000</td>\n",
       "      <td>20.000000</td>\n",
       "      <td>25251</td>\n",
       "      <td>2104.0</td>\n",
       "      <td>0.042309</td>\n",
       "      <td>23147.0</td>\n",
       "      <td>0.230844</td>\n",
       "      <td>-1.696737</td>\n",
       "      <td>0.446420</td>\n",
       "    </tr>\n",
       "    <tr>\n",
       "      <th>33</th>\n",
       "      <td>NumberOfDependents</td>\n",
       "      <td>NaN</td>\n",
       "      <td>NaN</td>\n",
       "      <td>3519</td>\n",
       "      <td>165.0</td>\n",
       "      <td>0.003318</td>\n",
       "      <td>3354.0</td>\n",
       "      <td>0.033449</td>\n",
       "      <td>-2.310675</td>\n",
       "      <td>0.446420</td>\n",
       "    </tr>\n",
       "  </tbody>\n",
       "</table>\n",
       "</div>"
      ],
      "text/plain": [
       "                                VAR_NAME    MIN_VALUE      MAX_VALUE   COUNT  \\\n",
       "0   RevolvingUtilizationOfUnsecuredLines     0.000000       0.156417   50000   \n",
       "1   RevolvingUtilizationOfUnsecuredLines     0.156434       1.000000   55308   \n",
       "2   RevolvingUtilizationOfUnsecuredLines     1.000000   50708.000000   44692   \n",
       "3                                    age     0.000000       1.000000   42288   \n",
       "4                                    age    21.000000      24.000000     695   \n",
       "5                                    age    25.000000      40.000000   22390   \n",
       "6                                    age    41.000000      48.000000   21533   \n",
       "7                                    age    49.000000      56.000000   22815   \n",
       "8                                    age    57.000000      64.000000   20533   \n",
       "9                                    age    65.000000     109.000000   19746   \n",
       "10  NumberOfTime30-59DaysPastDueNotWorse     0.000000       1.000000  143717   \n",
       "11  NumberOfTime30-59DaysPastDueNotWorse     2.000000      98.000000    6283   \n",
       "12                             DebtRatio     0.200000       0.394631   37500   \n",
       "13                             DebtRatio     0.394645       1.000000   77363   \n",
       "14                             DebtRatio     1.000500  329664.000000   35137   \n",
       "15                         MonthlyIncome     0.000000       1.000000   44385   \n",
       "16                         MonthlyIncome     2.000000    3302.000000   16563   \n",
       "17                         MonthlyIncome  3303.000000    6526.000000   30470   \n",
       "18                         MonthlyIncome  6527.000000  100000.000000   30473   \n",
       "19                         MonthlyIncome          NaN            NaN   28109   \n",
       "20       NumberOfOpenCreditLinesAndLoans     0.000000       1.000000   44216   \n",
       "21       NumberOfOpenCreditLinesAndLoans     2.000000       6.000000   32498   \n",
       "22       NumberOfOpenCreditLinesAndLoans     7.000000      10.000000   36459   \n",
       "23       NumberOfOpenCreditLinesAndLoans    11.000000      58.000000   36827   \n",
       "24               NumberOfTimes90DaysLate     0.000000       1.000000  148119   \n",
       "25               NumberOfTimes90DaysLate     2.000000      98.000000    1881   \n",
       "26          NumberRealEstateLoansOrLines     0.000000       1.000000  110692   \n",
       "27          NumberRealEstateLoansOrLines     2.000000       2.000000   29583   \n",
       "28          NumberRealEstateLoansOrLines     3.000000      54.000000    9725   \n",
       "29  NumberOfTime60-89DaysPastDueNotWorse     0.000000       1.000000  148704   \n",
       "30  NumberOfTime60-89DaysPastDueNotWorse     2.000000      98.000000    1296   \n",
       "31                    NumberOfDependents     0.000000       1.000000  121230   \n",
       "32                    NumberOfDependents     2.000000      20.000000   25251   \n",
       "33                    NumberOfDependents          NaN            NaN    3519   \n",
       "\n",
       "      EVENT  EVENT_RATE  NONEVENT  NON_EVENT_RATE        WOE         IV  \n",
       "0    1061.0    0.021336   48939.0        0.488067  -3.130075   5.505724  \n",
       "1    5482.0    0.110237   49826.0        0.496913  -1.505779   5.505724  \n",
       "2   43186.0    0.868427    1506.0        0.015019   4.057347   5.505724  \n",
       "3   42287.0    0.850349       1.0        0.000010  11.353523  11.375168  \n",
       "4      99.0    0.001991     596.0        0.005944  -1.093833  11.375168  \n",
       "5    2285.0    0.045949   20105.0        0.200507  -1.473314  11.375168  \n",
       "6    1815.0    0.036498   19718.0        0.196647  -1.684158  11.375168  \n",
       "7    1646.0    0.033099   21169.0        0.211118  -1.852901  11.375168  \n",
       "8     980.0    0.019707   19553.0        0.195002  -2.292043  11.375168  \n",
       "9     617.0    0.012407   19129.0        0.190773  -2.732804  11.375168  \n",
       "10  47689.0    0.958978   96028.0        0.957685   0.001349   0.000042  \n",
       "11   2040.0    0.041022    4243.0        0.042315  -0.031033   0.000042  \n",
       "12   2104.0    0.042309   35396.0        0.353003  -2.121470   1.832349  \n",
       "13  45334.0    0.911621   32029.0        0.319424   1.048704   1.832349  \n",
       "14   2291.0    0.046070   32846.0        0.327572  -1.961553   1.832349  \n",
       "15  42361.0    0.851837    2024.0        0.020185   3.742441   4.723262  \n",
       "16   1685.0    0.033884   14878.0        0.148378  -1.476830   4.723262  \n",
       "17   2459.0    0.049448   28011.0        0.279353  -1.731554   4.723262  \n",
       "18   1664.0    0.033461   28809.0        0.287311  -2.150175   4.723262  \n",
       "19   1560.0    0.031370   26549.0        0.264772  -2.133018   4.723262  \n",
       "20  42629.0    0.857226    1587.0        0.015827   3.991978   4.987688  \n",
       "21   2381.0    0.047880   30117.0        0.300356  -1.836281   4.987688  \n",
       "22   2184.0    0.043918   34275.0        0.341824  -2.051970   4.987688  \n",
       "23   2535.0    0.050976   34292.0        0.341993  -1.903430   4.987688  \n",
       "24  48626.0    0.977820   99493.0        0.992241  -0.014641   0.015359  \n",
       "25   1103.0    0.022180     778.0        0.007759   1.050351   0.015359  \n",
       "26  47177.0    0.948682   63515.0        0.633433   0.403919   0.754500  \n",
       "27   1717.0    0.034527   27866.0        0.277907  -2.085540   0.754500  \n",
       "28    835.0    0.016791    8890.0        0.088660  -1.663962   0.754500  \n",
       "29  49013.0    0.985602   99691.0        0.994216  -0.008702   0.007930  \n",
       "30    716.0    0.014398     580.0        0.005784   0.911940   0.007930  \n",
       "31  47460.0    0.954373   73770.0        0.735706   0.260223   0.446420  \n",
       "32   2104.0    0.042309   23147.0        0.230844  -1.696737   0.446420  \n",
       "33    165.0    0.003318    3354.0        0.033449  -2.310675   0.446420  "
      ]
     },
     "execution_count": 508,
     "metadata": {},
     "output_type": "execute_result"
    }
   ],
   "source": [
    "final_iv\n",
    "# IV"
   ]
  },
  {
   "cell_type": "code",
   "execution_count": null,
   "metadata": {
    "collapsed": true
   },
   "outputs": [],
   "source": []
  },
  {
   "cell_type": "code",
   "execution_count": 486,
   "metadata": {},
   "outputs": [
    {
     "name": "stdout",
     "output_type": "stream",
     "text": [
      "<class 'pandas.core.frame.DataFrame'>\n",
      "RangeIndex: 150000 entries, 0 to 149999\n",
      "Data columns (total 21 columns):\n",
      "SeriousDlqin2yrs                            150000 non-null int64\n",
      "RevolvingUtilizationOfUnsecuredLines        150000 non-null float64\n",
      "age                                         150000 non-null int64\n",
      "NumberOfTime30-59DaysPastDueNotWorse        150000 non-null int64\n",
      "DebtRatio                                   150000 non-null float64\n",
      "MonthlyIncome                               120269 non-null float64\n",
      "NumberOfOpenCreditLinesAndLoans             150000 non-null int64\n",
      "NumberOfTimes90DaysLate                     150000 non-null int64\n",
      "NumberRealEstateLoansOrLines                150000 non-null int64\n",
      "NumberOfTime60-89DaysPastDueNotWorse        150000 non-null int64\n",
      "NumberOfDependents                          146076 non-null float64\n",
      "DebtRatio_woe                               150000 non-null float32\n",
      "MonthlyIncome_woe                           120269 non-null float32\n",
      "NumberOfDependents_woe                      146076 non-null float32\n",
      "NumberOfOpenCreditLinesAndLoans_woe         150000 non-null float32\n",
      "NumberOfTime30-59DaysPastDueNotWorse_woe    150000 non-null float32\n",
      "NumberOfTime60-89DaysPastDueNotWorse_woe    150000 non-null float32\n",
      "NumberOfTimes90DaysLate_woe                 150000 non-null float32\n",
      "NumberRealEstateLoansOrLines_woe            150000 non-null float32\n",
      "RevolvingUtilizationOfUnsecuredLines_woe    150000 non-null float32\n",
      "age_woe                                     150000 non-null float32\n",
      "dtypes: float32(10), float64(4), int64(7)\n",
      "memory usage: 18.3 MB\n"
     ]
    },
    {
     "name": "stderr",
     "output_type": "stream",
     "text": [
      "C:\\Users\\Anders\\Anaconda3\\lib\\site-packages\\pandas\\core\\reshape\\tile.py:130: RuntimeWarning: invalid value encountered in less\n",
      "  if (np.diff(bins) < 0).any():\n"
     ]
    }
   ],
   "source": [
    "name = np.unique(list(final_iv['VAR_NAME']))\n",
    "\n",
    "for x in range(len(name)):\n",
    "        \n",
    "    factor = name[x]\n",
    "    woe_name = factor+'_woe'\n",
    "        \n",
    "    select = final_iv['VAR_NAME'] == factor\n",
    "    min_values = list(final_iv['MIN_VALUE'][select])\n",
    "    min_values.extend([9999999999999])\n",
    "    min_values.sort()\n",
    "    min_values[0] = -9999999999999\n",
    "    woe = list(final_iv['WOE'][select])\n",
    "    df[woe_name] = pd.cut(df[factor], min_values, labels=woe).astype('float32')\n",
    "    \n",
    "df.info()"
   ]
  },
  {
   "cell_type": "code",
   "execution_count": 625,
   "metadata": {},
   "outputs": [
    {
     "name": "stdout",
     "output_type": "stream",
     "text": [
      "(105000, 10) (45000, 10)\n"
     ]
    }
   ],
   "source": [
    "X = df.drop(['SeriousDlqin2yrs'], axis = 1)\n",
    "y = df['SeriousDlqin2yrs']\n",
    "\n",
    "X_train, X_test, y_train, y_test = train_test_split(X, y, test_size=0.3, random_state=101)\n",
    "\n",
    "print(X_train.shape,  X_test.shape)\n",
    "# data = df_num_mod.values\n",
    "# col = df_num_mod.columns\n",
    "# ind = df_num_mod.indexprint(y_train.shape, y_test.shape)\n",
    "\n",
    "# Skapar df med numeriska värden\n",
    "X_train_num = X_train.select_dtypes(exclude=['object'])\n",
    "X_test_num = X_test.select_dtypes(exclude=['object'])\n"
   ]
  },
  {
   "cell_type": "code",
   "execution_count": 613,
   "metadata": {},
   "outputs": [
    {
     "data": {
      "text/plain": [
       "(30000, 10)"
      ]
     },
     "execution_count": 613,
     "metadata": {},
     "output_type": "execute_result"
    }
   ],
   "source": [
    "X_train_num = X_train.select_dtypes(exclude=['object'])\n",
    "q_lower = X_train_num.quantile(0.03)\n",
    "\n",
    "X_train_num.shape"
   ]
  },
  {
   "cell_type": "code",
   "execution_count": 614,
   "metadata": {},
   "outputs": [],
   "source": [
    "# Skapar df med icke numeriska värden\n",
    "X_train_obj = X_train.select_dtypes(include=['object'])\n",
    "X_test_obj = X_test.select_dtypes(include=['object'])\n",
    "\n",
    "# Skapar df med numeriska värden\n",
    "X_train_num = X_train.select_dtypes(exclude=['object'])\n",
    "X_test_num = X_test.select_dtypes(exclude=['object'])\n",
    "\n",
    "# Sparar col och index för att kunna skapa df\n",
    "col_train = X_train_num.columns\n",
    "ind_train = X_train_num.index\n",
    "col_test = X_test_num.columns\n",
    "ind_test = X_test_num.index\n",
    "\n",
    "# Tar ut extremvärden från X_train\n",
    "q_lower = X_train_num.quantile(0.03)\n",
    "q_upper = X_train_num.quantile(0.97)\n",
    "\n",
    "# Ersätter extremvärden i X_train   \n",
    "X_train_q = (X_train_num < q_lower)\n",
    "X_train_num = X_train_num.mask(X_train_q, q_lower, axis=1)\n",
    "X_train_q = (X_train_num > q_upper)\n",
    "X_train_num = X_train_num.mask(X_train_q, q_upper, axis=1)\n",
    "\n",
    "# Ersätter extremvärden i X_test   \n",
    "X_test_q = (X_test_num < q_lower)\n",
    "X_test_num = X_test_num.mask(X_test_q, q_lower, axis=1)\n",
    "X_test_q = (X_test_num > q_upper)\n",
    "X_test_num = X_test_num.mask(X_test_q, q_upper, axis=1)\n",
    "\n",
    "# Skapar arrayer från df\n",
    "X_train_num = X_train_num.values\n",
    "X_test_num = X_test_num.values\n",
    "\n",
    "# Imputerar missingvärden med medianvärden\n",
    "imp = Imputer(missing_values='NaN', strategy='median', axis=0)\n",
    "imp.fit(X_train_num)\n",
    "X_train_imp = imp.transform(X_train_num)\n",
    "X_test_imp = imp.transform(X_test_num)\n",
    "\n",
    "# Transformerar till ett värde mellan 0 och 1 \n",
    "scaler = MinMaxScaler()\n",
    "scaler.fit(X_train_imp)\n",
    "\n",
    "X_train_f = scaler.transform(X_train_imp)\n",
    "X_test_f = scaler.transform(X_test_imp)\n",
    "\n",
    "# Skapar df\n",
    "df_train_num = pd.DataFrame(X_train_f, columns=col_train, index = ind_train).sort_index()\n",
    "df_test_num = pd.DataFrame(X_test_f, columns=col_test, index = ind_test).sort_index()\n",
    "\n",
    "df_train = pd.concat([X_train_obj, df_train_num], axis=1)\n",
    "df_test = pd.concat([X_test_obj, df_test_num], axis=1)"
   ]
  },
  {
   "cell_type": "code",
   "execution_count": 490,
   "metadata": {},
   "outputs": [
    {
     "data": {
      "text/plain": [
       "(105000, 20)"
      ]
     },
     "execution_count": 490,
     "metadata": {},
     "output_type": "execute_result"
    }
   ],
   "source": [
    "X_train_f.shape"
   ]
  },
  {
   "cell_type": "code",
   "execution_count": 615,
   "metadata": {
    "collapsed": true
   },
   "outputs": [],
   "source": [
    "def fit_and_evaluate(model, name):\n",
    "           \n",
    "    model.fit(X_train_f, y_train)\n",
    "    y_train_pos = (y_train == 1)    \n",
    "    y_train_pred = cross_val_predict(model, X_train_f, y_train_pos, cv=3)\n",
    "    ps = precision_score(y_train_pos, y_train_pred)\n",
    "    rs = recall_score(y_train_pos, y_train_pred)\n",
    "    f1 = f1_score(y_train_pos, y_train_pred)\n",
    "    print(name, 'Precicion:=%0.4f' % ps, ', Detects:=%0.4f' % rs, ', F1=%0.4f:' % f1)   "
   ]
  },
  {
   "cell_type": "code",
   "execution_count": 596,
   "metadata": {},
   "outputs": [],
   "source": [
    "from sklearn.neighbors.nearest_centroid import NearestCentroid\n",
    "model = NearestCentroid()\n",
    "model = LogisticRegression()\n",
    "model.fit(X_train_f, y_train)\n",
    "y_train_pos = (y_train == 1)\n",
    "y_train_pred = cross_val_predict(model, X_train_f, y_train_pos, cv=3, method='predict')\n",
    "\n",
    "# pd.DataFrame(y_train_pred)\n",
    "\n",
    "# ps = precision_score(y_train_pos, y_train_pred)\n",
    "# rs = recall_score(y_train_pos, y_train_pred)\n",
    "# f1 = f1_score(y_train_pos, y_train_pred)\n"
   ]
  },
  {
   "cell_type": "code",
   "execution_count": 617,
   "metadata": {},
   "outputs": [
    {
     "name": "stdout",
     "output_type": "stream",
     "text": [
      "LOGmodelGD: Precicion:=0.5348 , Detects:=0.2692 , F1=0.3582:\n"
     ]
    }
   ],
   "source": [
    "LOGmodelGD = SGDClassifier(loss='log', penalty='l2', random_state=101, shuffle=True, max_iter=1000, tol=0.001)\n",
    "fit_and_evaluate(LOGmodelGD, 'LOGmodelGD:')"
   ]
  },
  {
   "cell_type": "code",
   "execution_count": 618,
   "metadata": {},
   "outputs": [
    {
     "name": "stdout",
     "output_type": "stream",
     "text": [
      "NearestCentroid: Precicion:=0.2504 , Detects:=0.6952 , F1=0.3682:\n"
     ]
    }
   ],
   "source": [
    "Nearestmodel = NearestCentroid()\n",
    "fit_and_evaluate(Nearestmodel, 'NearestCentroid:')"
   ]
  },
  {
   "cell_type": "code",
   "execution_count": 619,
   "metadata": {},
   "outputs": [
    {
     "name": "stdout",
     "output_type": "stream",
     "text": [
      "RFmodel: Precicion:=0.4797 , Detects:=0.1728 , F1=0.2541:\n"
     ]
    }
   ],
   "source": [
    "RFmodel = RandomForestClassifier(random_state=101)\n",
    "fit_and_evaluate(RFmodel, 'RFmodel:')"
   ]
  },
  {
   "cell_type": "code",
   "execution_count": 620,
   "metadata": {},
   "outputs": [
    {
     "name": "stdout",
     "output_type": "stream",
     "text": [
      "LOGmodel: Precicion:=0.5817 , Detects:=0.2132 , F1=0.3121:\n"
     ]
    }
   ],
   "source": [
    "LOGmodel = LogisticRegression()\n",
    "fit_and_evaluate(LOGmodel, 'LOGmodel:')"
   ]
  },
  {
   "cell_type": "code",
   "execution_count": null,
   "metadata": {},
   "outputs": [],
   "source": []
  },
  {
   "cell_type": "code",
   "execution_count": 621,
   "metadata": {},
   "outputs": [
    {
     "name": "stdout",
     "output_type": "stream",
     "text": [
      "HmodelGD: Precicion:=0.0000 , Detects:=0.0000 , F1=0.0000:\n"
     ]
    },
    {
     "name": "stderr",
     "output_type": "stream",
     "text": [
      "C:\\Users\\Anders\\Anaconda3\\lib\\site-packages\\sklearn\\metrics\\classification.py:1135: UndefinedMetricWarning: Precision is ill-defined and being set to 0.0 due to no predicted samples.\n",
      "  'precision', 'predicted', average, warn_for)\n",
      "C:\\Users\\Anders\\Anaconda3\\lib\\site-packages\\sklearn\\metrics\\classification.py:1135: UndefinedMetricWarning: F-score is ill-defined and being set to 0.0 due to no predicted samples.\n",
      "  'precision', 'predicted', average, warn_for)\n"
     ]
    }
   ],
   "source": [
    "HmodelGD = SGDClassifier(loss='hinge', penalty='l2', random_state=101, shuffle=True, max_iter=1000, tol=0.001)\n",
    "fit_and_evaluate(HmodelGD, 'HmodelGD:')"
   ]
  },
  {
   "cell_type": "code",
   "execution_count": null,
   "metadata": {
    "collapsed": true
   },
   "outputs": [],
   "source": []
  },
  {
   "cell_type": "code",
   "execution_count": 622,
   "metadata": {},
   "outputs": [],
   "source": [
    "y_test_pos = (y_test == 1)\n",
    "y_scores = cross_val_predict(LOGmodel, X_test_f, y_test_pos, cv=3, method=\"decision_function\")\n",
    "precisions, recalls, thresholds = precision_recall_curve(y_test_pos, y_scores)"
   ]
  },
  {
   "cell_type": "code",
   "execution_count": 623,
   "metadata": {},
   "outputs": [
    {
     "data": {
      "image/png": "[encoded data removed]",
      "text/plain": [
       "<matplotlib.figure.Figure at 0x1156f208>"
      ]
     },
     "metadata": {},
     "output_type": "display_data"
    }
   ],
   "source": [
    "def plot_precision_recall_vs_threshold(precisions, recalls, thresholds):\n",
    "    plt.plot(thresholds, precisions[:-1], \"b--\", label=\"Precision\", linewidth=2)\n",
    "    plt.plot(thresholds, recalls[:-1], \"g-\", label=\"Detects\", linewidth=2)\n",
    "    plt.xlabel(\"Threshold\", fontsize=16)\n",
    "    plt.legend(loc=\"upper left\", fontsize=16)\n",
    "    plt.ylim([0, 1])\n",
    "\n",
    "plt.figure(figsize=(8, 4))\n",
    "plot_precision_recall_vs_threshold(precisions, recalls, thresholds)\n",
    "plt.xlim([-5, 2])\n",
    "# save_fig(\"precision_recall_vs_threshold_plot\")\n",
    "plt.show()"
   ]
  },
  {
   "cell_type": "code",
   "execution_count": 624,
   "metadata": {},
   "outputs": [
    {
     "data": {
      "image/png": "[encoded data removed]",
      "text/plain": [
       "<matplotlib.figure.Figure at 0x12d692b0>"
      ]
     },
     "metadata": {},
     "output_type": "display_data"
    }
   ],
   "source": [
    "# ROC på test\n",
    "\n",
    "#Log SGD\n",
    "LOGmodelGD = SGDClassifier(loss='log', penalty='l2', random_state=101, shuffle=True, max_iter=1000, tol=0.001)\n",
    "y_scores = cross_val_predict(LOGmodelGD, X_test_f, y_test_pos, cv=3, method=\"decision_function\")    \n",
    "fpr_log_gd, tpr_log_gd, thresholds = roc_curve(y_test_pos, y_scores)\n",
    "\n",
    "#RF\n",
    "RFmodel = RandomForestClassifier(random_state=101, n_estimators=100, max_features = 'auto', min_samples_split=100)\n",
    "y_probas_forest = cross_val_predict(RFmodel, X_test_f, y_test_pos, cv=3, method=\"predict_proba\")\n",
    "y_scores_forest = y_probas_forest[:, 1] # score = proba of positive class\n",
    "fpr_rf, tpr_rf, thresholds_rf = roc_curve(y_test_pos, y_scores_forest)\n",
    "\n",
    "#NearestCentroid\n",
    "Nearestmodel = NearestCentroid(shrink_threshold=0.9)\n",
    "y_probas_near = cross_val_predict(Nearestmodel, X_test_f, y_test_pos, cv=3, method=\"predict\")\n",
    "fpr_near, tpr_near, thresholds_near = roc_curve(y_test_pos, y_probas_near)\n",
    "\n",
    "# linear SVM\n",
    "HmodelGD = SGDClassifier(loss='hinge', penalty='l2', random_state=101, shuffle=True, max_iter=1000, tol=0.001)\n",
    "y_scores = cross_val_predict(HmodelGD, X_test_f, y_test_pos, cv=3, method=\"decision_function\")    \n",
    "fpr_hinge, tpr_hinge, thresholds = roc_curve(y_test_pos, y_scores)\n",
    "\n",
    "#Logistic regression \n",
    "LOGmodel = LogisticRegression()\n",
    "y_scores = cross_val_predict(LOGmodel, X_test_f, y_test_pos, cv=3, method=\"decision_function\") \n",
    "fpr_log, tpr_log, thresholds = roc_curve(y_test_pos, y_scores)\n",
    "\n",
    "\n",
    "plt.figure(figsize=(8, 6))\n",
    "plt.plot(fpr_log_gd, tpr_log_gd, \"b:\", linewidth=3, label=\"Logistic regression SGD\")\n",
    "plot_roc_curve(fpr_rf, tpr_rf, \"Random Forest\")\n",
    "plot_roc_curve(fpr_hinge, tpr_hinge, \"Linear SVM\")\n",
    "plot_roc_curve(fpr_log, tpr_log, \"Logistic regression\")\n",
    "plot_roc_curve(fpr_near, tpr_near, \"NearestCentroid\")\n",
    "\n",
    "plt.legend(loc=\"lower right\", fontsize=16)\n",
    "plt.show()\n"
   ]
  },
  {
   "cell_type": "code",
   "execution_count": 499,
   "metadata": {
    "collapsed": true
   },
   "outputs": [],
   "source": [
    "#Log \n",
    "LOGmodel = LogisticRegression()\n",
    "y_scores = cross_val_predict(LOGmodel, X_test_f, y_test_pos, cv=3, method=\"decision_function\") "
   ]
  },
  {
   "cell_type": "code",
   "execution_count": 500,
   "metadata": {},
   "outputs": [
    {
     "data": {
      "text/plain": [
       "array([-4.78360734, -4.48870203, -4.25523023, ..., -3.70213834,\n",
       "       -3.91917364, -3.9122131 ])"
      ]
     },
     "execution_count": 500,
     "metadata": {},
     "output_type": "execute_result"
    }
   ],
   "source": [
    "y_scores"
   ]
  },
  {
   "cell_type": "code",
   "execution_count": 501,
   "metadata": {},
   "outputs": [
    {
     "ename": "NameError",
     "evalue": "name 'fpr' is not defined",
     "output_type": "error",
     "traceback": [
      "\u001b[1;31m---------------------------------------------------------------------------\u001b[0m",
      "\u001b[1;31mNameError\u001b[0m                                 Traceback (most recent call last)",
      "\u001b[1;32m<ipython-input-501-d64998881ddc>\u001b[0m in \u001b[0;36m<module>\u001b[1;34m()\u001b[0m\n\u001b[0;32m      7\u001b[0m \u001b[1;33m\u001b[0m\u001b[0m\n\u001b[0;32m      8\u001b[0m \u001b[0mplt\u001b[0m\u001b[1;33m.\u001b[0m\u001b[0mfigure\u001b[0m\u001b[1;33m(\u001b[0m\u001b[0mfigsize\u001b[0m\u001b[1;33m=\u001b[0m\u001b[1;33m(\u001b[0m\u001b[1;36m8\u001b[0m\u001b[1;33m,\u001b[0m \u001b[1;36m6\u001b[0m\u001b[1;33m)\u001b[0m\u001b[1;33m)\u001b[0m\u001b[1;33m\u001b[0m\u001b[0m\n\u001b[1;32m----> 9\u001b[1;33m \u001b[0mplot_roc_curve\u001b[0m\u001b[1;33m(\u001b[0m\u001b[0mfpr\u001b[0m\u001b[1;33m,\u001b[0m \u001b[0mtpr\u001b[0m\u001b[1;33m)\u001b[0m\u001b[1;33m\u001b[0m\u001b[0m\n\u001b[0m\u001b[0;32m     10\u001b[0m \u001b[1;31m# save_fig(\"roc_curve_plot\")\u001b[0m\u001b[1;33m\u001b[0m\u001b[1;33m\u001b[0m\u001b[0m\n\u001b[0;32m     11\u001b[0m \u001b[0mplt\u001b[0m\u001b[1;33m.\u001b[0m\u001b[0mshow\u001b[0m\u001b[1;33m(\u001b[0m\u001b[1;33m)\u001b[0m\u001b[1;33m\u001b[0m\u001b[0m\n",
      "\u001b[1;31mNameError\u001b[0m: name 'fpr' is not defined"
     ]
    },
    {
     "data": {
      "text/plain": [
       "<matplotlib.figure.Figure at 0x103f5ba8>"
      ]
     },
     "metadata": {},
     "output_type": "display_data"
    }
   ],
   "source": [
    "def plot_roc_curve(fpr, tpr, label=None):\n",
    "    plt.plot(fpr, tpr, linewidth=2, label=label)\n",
    "    plt.plot([0, 1], [0, 1], 'k--')\n",
    "    plt.axis([0, 1, 0, 1])\n",
    "    plt.xlabel('False Positive Rate', fontsize=16)\n",
    "    plt.ylabel('True Positive Rate', fontsize=16)\n",
    "\n",
    "plt.figure(figsize=(8, 6))\n",
    "plot_roc_curve(fpr, tpr)\n",
    "# save_fig(\"roc_curve_plot\")\n",
    "plt.show()"
   ]
  },
  {
   "cell_type": "code",
   "execution_count": 141,
   "metadata": {},
   "outputs": [
    {
     "data": {
      "text/plain": [
       "0.9843583986385844"
      ]
     },
     "execution_count": 141,
     "metadata": {},
     "output_type": "execute_result"
    }
   ],
   "source": [
    "roc_auc_score(y_test_pos, y_scores)"
   ]
  },
  {
   "cell_type": "code",
   "execution_count": null,
   "metadata": {
    "collapsed": true
   },
   "outputs": [],
   "source": [
    "y_test_pred = LOGmodel.predict(X_test_f)\n",
    "y_test_pred"
   ]
  },
  {
   "cell_type": "code",
   "execution_count": null,
   "metadata": {
    "collapsed": true
   },
   "outputs": [],
   "source": [
    "SVRmodel = SVR()\n",
    "\n",
    "SVRmodel.fit(X_train_f, y_train)\n",
    "score = cross_val_score(SVRmodel, X_train_f, y_train, scoring=\"neg_mean_squared_error\", cv=3)\n",
    "mse = np.sqrt(-score).mean()\n",
    "minmse = np.sqrt(-score).min()\n",
    "\n",
    "print('MSE: = %0.4f' % mse,', Min MSE: = %0.4f' % minmse)\n",
    "LinearSVR"
   ]
  },
  {
   "cell_type": "code",
   "execution_count": null,
   "metadata": {
    "collapsed": true
   },
   "outputs": [],
   "source": [
    "y_test_pred = SVRmodel.predict(X_test_f)\n",
    "y_test_pred"
   ]
  },
  {
   "cell_type": "code",
   "execution_count": null,
   "metadata": {
    "collapsed": true
   },
   "outputs": [],
   "source": []
  },
  {
   "cell_type": "code",
   "execution_count": 547,
   "metadata": {},
   "outputs": [
    {
     "data": {
      "text/plain": [
       "GridSearchCV(cv=5, error_score='raise',\n",
       "       estimator=RandomForestClassifier(bootstrap=True, class_weight=None, criterion='gini',\n",
       "            max_depth=None, max_features='auto', max_leaf_nodes=None,\n",
       "            min_impurity_decrease=0.0, min_impurity_split=None,\n",
       "            min_samples_leaf=1, min_samples_split=100,\n",
       "            min_weight_fraction_leaf=0.0, n_estimators=100, n_jobs=1,\n",
       "            oob_score=False, random_state=101, verbose=0, warm_start=False),\n",
       "       fit_params=None, iid=True, n_jobs=1,\n",
       "       param_grid=[{'n_estimators': [3, 10, 30], 'max_features': [2, 4, 6, 8]}, {'bootstrap': [False], 'n_estimators': [3, 10], 'max_features': [2, 3, 4]}],\n",
       "       pre_dispatch='2*n_jobs', refit=True, return_train_score=True,\n",
       "       scoring='neg_mean_squared_error', verbose=0)"
      ]
     },
     "execution_count": 547,
     "metadata": {},
     "output_type": "execute_result"
    }
   ],
   "source": [
    "param_grid = [\n",
    "    # try 12 (3×4) combinations of hyperparameters\n",
    "    {'n_estimators': [30, 50, 100], 'max_features': [8, 16, 32]},\n",
    "    # then try 6 (2×3) combinations with bootstrap set as False\n",
    "    {'bootstrap': [False], 'n_estimators': [3, 10], 'max_features': [2, 3, 4]},\n",
    "  ]\n",
    "\n",
    "grid_search = GridSearchCV(RFmodel, param_grid, cv=3,\n",
    "                           scoring='neg_mean_squared_error', return_train_score=True)\n",
    "grid_search.fit(X_train_f, y_train)"
   ]
  },
  {
   "cell_type": "code",
   "execution_count": null,
   "metadata": {
    "collapsed": true
   },
   "outputs": [],
   "source": []
  },
  {
   "cell_type": "code",
   "execution_count": 548,
   "metadata": {},
   "outputs": [
    {
     "data": {
      "text/plain": [
       "{'bootstrap': False, 'max_features': 4, 'n_estimators': 10}"
      ]
     },
     "execution_count": 548,
     "metadata": {},
     "output_type": "execute_result"
    }
   ],
   "source": [
    "grid_search.best_params_"
   ]
  },
  {
   "cell_type": "code",
   "execution_count": 549,
   "metadata": {},
   "outputs": [
    {
     "data": {
      "text/plain": [
       "RandomForestClassifier(bootstrap=False, class_weight=None, criterion='gini',\n",
       "            max_depth=None, max_features=4, max_leaf_nodes=None,\n",
       "            min_impurity_decrease=0.0, min_impurity_split=None,\n",
       "            min_samples_leaf=1, min_samples_split=100,\n",
       "            min_weight_fraction_leaf=0.0, n_estimators=10, n_jobs=1,\n",
       "            oob_score=False, random_state=101, verbose=0, warm_start=False)"
      ]
     },
     "execution_count": 549,
     "metadata": {},
     "output_type": "execute_result"
    }
   ],
   "source": [
    "grid_search.best_estimator_"
   ]
  },
  {
   "cell_type": "code",
   "execution_count": null,
   "metadata": {
    "collapsed": true
   },
   "outputs": [],
   "source": []
  },
  {
   "cell_type": "code",
   "execution_count": null,
   "metadata": {
    "collapsed": true
   },
   "outputs": [],
   "source": [
    "cvres = grid_search.cv_results_\n",
    "for mean_score, params in zip(cvres[\"mean_test_score\" ], cvres[\"params\"]):\n",
    "    print(\"%8.3f,\" % np.sqrt(-mean_score), params)"
   ]
  },
  {
   "cell_type": "code",
   "execution_count": null,
   "metadata": {
    "collapsed": true
   },
   "outputs": [],
   "source": [
    "model = GradientBoostingRegressor(loss='lad', max_depth=5, max_features=None,\n",
    "                                  min_samples_leaf=6, min_samples_split=6, \n",
    "                                  n_estimators=800, random_state=42)\n"
   ]
  },
  {
   "cell_type": "code",
   "execution_count": null,
   "metadata": {
    "collapsed": true
   },
   "outputs": [],
   "source": [
    "# Extract the feature importances into a dataframe\n",
    "feature_results = pd.DataFrame({'feature': list(df_train.columns), \n",
    "                                'importance': model.feature_importances_})\n",
    "\n",
    "# Show the top 10 most important\n",
    "feature_results = feature_results.sort_values('importance', ascending = False).reset_index(drop=True)\n",
    "\n",
    "feature_results.head(10)"
   ]
  },
  {
   "cell_type": "code",
   "execution_count": null,
   "metadata": {
    "collapsed": true
   },
   "outputs": [],
   "source": [
    "# model = GradientBoostingRegressor(loss='lad', max_depth=5, max_features=None,\n",
    "#                                   min_samples_leaf=6, min_samples_split=6, \n",
    "#                                   n_estimators=800, random_state=101)\n",
    "\n",
    "\n",
    "model = SGDClassifier(random_state=101, shuffle=True, max_iter=1000, tol=0.001)\n",
    "model.fit(X_train_f, y_train)"
   ]
  },
  {
   "cell_type": "code",
   "execution_count": null,
   "metadata": {
    "collapsed": true
   },
   "outputs": [],
   "source": [
    "\n",
    "y_test_pred = sgd_clf.predict(X_test_f)\n",
    "f1_score(y_test, y_test_pred)"
   ]
  },
  {
   "cell_type": "code",
   "execution_count": null,
   "metadata": {
    "collapsed": true
   },
   "outputs": [],
   "source": [
    "y_train_pred = sgd_clf.predict(X_train_f)\n",
    "f1_score(y_train, y_train_pred)"
   ]
  },
  {
   "cell_type": "code",
   "execution_count": null,
   "metadata": {
    "collapsed": true
   },
   "outputs": [],
   "source": [
    "# Hantering av extremvärden\n",
    "# Beräknar percentiler på modelldata och ersätter värden utanför dessa på modell- och testdata\n",
    "\n",
    "def extreme(df_mod, df_out, lower_q, upper_q, numdroplist):\n",
    "    \n",
    "# Plockar ut alla numeriska kolumner from df_mod\n",
    "    df_num_mod = df_mod.select_dtypes(include=[np.number]).drop(numdroplist, axis = 1)\n",
    "    \n",
    "    df_num_out = df_out.select_dtypes(include=[np.number]).drop(numdroplist, axis = 1)\n",
    "    df_char_out = df_out.select_dtypes(include=[np.character])\n",
    "    df_obj_out = df_out.select_dtypes(include=[np.object])\n",
    "    df_drop_out = df_out[numdroplist]\n",
    "    \n",
    "# Plockar ut kvartiler från df_mod\n",
    "    q_lower = df_num_mod.quantile(lower_q)\n",
    "    q_upper = df_num_mod.quantile(upper_q)\n",
    "\n",
    "# Ersätter extremvärden i df_out    \n",
    "    outliers_low = (df_num_out < q_lower)\n",
    "    df_num_out.mask(outliers_low, q_lower, axis=1)\n",
    "    outliers_high = (df_num_out > q_upper)\n",
    "    num = df_num_out.mask(outliers_high, q_upper, axis=1)\n",
    "    \n",
    "    out = pd.concat([df_char_out, df_obj_out, df_drop_out, num], axis=1)\n",
    "    \n",
    "    return out"
   ]
  },
  {
   "cell_type": "code",
   "execution_count": null,
   "metadata": {
    "collapsed": true
   },
   "outputs": [],
   "source": [
    "koll = df.copy()\n",
    "kk = extreme(df, koll, 0.05, 0.95, ['rating'])\n"
   ]
  },
  {
   "cell_type": "code",
   "execution_count": null,
   "metadata": {
    "collapsed": true
   },
   "outputs": [],
   "source": []
  },
  {
   "cell_type": "code",
   "execution_count": null,
   "metadata": {
    "collapsed": true
   },
   "outputs": [],
   "source": []
  },
  {
   "cell_type": "code",
   "execution_count": null,
   "metadata": {
    "collapsed": true
   },
   "outputs": [],
   "source": [
    "\n"
   ]
  },
  {
   "cell_type": "code",
   "execution_count": null,
   "metadata": {
    "collapsed": true
   },
   "outputs": [],
   "source": [
    "# Function to calculate missing values by column\n",
    "def missing_values_table(df):\n",
    "        # Total missing values\n",
    "        mis_val = df.isnull().sum()\n",
    "        \n",
    "        # Percentage of missing values\n",
    "        mis_val_percent = 100 * df.isnull().sum() / len(df)\n",
    "        \n",
    "        # Make a table with the results\n",
    "        mis_val_table = pd.concat([mis_val, mis_val_percent], axis=1)\n",
    "        \n",
    "        # Rename the columns\n",
    "        mis_val_table_ren_columns = mis_val_table.rename(\n",
    "        columns = {0 : 'Missing Values', 1 : '% of Total Values'})\n",
    "        \n",
    "        # Sort the table by percentage of missing descending\n",
    "        mis_val_table_ren_columns = mis_val_table_ren_columns[\n",
    "            mis_val_table_ren_columns.iloc[:,1] != 0].sort_values(\n",
    "        '% of Total Values', ascending=False).round(1)\n",
    "        \n",
    "        # Print some summary information\n",
    "        print (\"Your selected dataframe has \" + str(df.shape[1]) + \" columns.\\n\"      \n",
    "            \"There are \" + str(mis_val_table_ren_columns.shape[0]) +\n",
    "              \" columns that have missing values.\")\n",
    "        \n",
    "        # Return the dataframe with missing information\n",
    "        return mis_val_table_ren_columns\n",
    "    "
   ]
  },
  {
   "cell_type": "code",
   "execution_count": null,
   "metadata": {
    "collapsed": true
   },
   "outputs": [],
   "source": [
    "missing_values_table(df)"
   ]
  },
  {
   "cell_type": "code",
   "execution_count": null,
   "metadata": {
    "collapsed": true
   },
   "outputs": [],
   "source": [
    "# Get the columns with > 20% missing\n",
    "missing_df = missing_values_table(df);\n",
    "missing_columns = list(missing_df[missing_df['% of Total Values'] > 20].index)\n",
    "print('We will remove %d columns.' % len(missing_columns))"
   ]
  },
  {
   "cell_type": "code",
   "execution_count": null,
   "metadata": {
    "collapsed": true
   },
   "outputs": [],
   "source": [
    "df = df.drop(list(missing_columns), axis = 1)\n",
    "# df.info()"
   ]
  },
  {
   "cell_type": "code",
   "execution_count": null,
   "metadata": {
    "collapsed": true
   },
   "outputs": [],
   "source": [
    "figsize(4, 4)\n",
    "# Histogram of the Energy Star Score\n",
    "plt.style.use('fivethirtyeight')\n",
    "plt.hist(df['rating'].dropna(), bins = 100, edgecolor = 'k');\n",
    "plt.xlabel('Rating');\n",
    "plt.ylabel('N'); \n",
    "\n"
   ]
  },
  {
   "cell_type": "code",
   "execution_count": null,
   "metadata": {
    "collapsed": true
   },
   "outputs": [],
   "source": [
    "plt.rcParams['font.size'] = 5\n",
    "numeric_subset = df.select_dtypes(include=[np.number])\n",
    "numeric_subset.drop('qf_ownr_cat', axis = 1)\n",
    "numeric_subset.hist(bins=5, figsize = (10,12))\n",
    "plt.show()"
   ]
  },
  {
   "cell_type": "code",
   "execution_count": null,
   "metadata": {
    "collapsed": true
   },
   "outputs": [],
   "source": [
    "numeric_subset = df.select_dtypes(include=[np.number])\n",
    "categorical_subset = df[['pop', 'land']]\n",
    "categorical_subset = pd.get_dummies(categorical_subset)\n",
    "df = pd.concat([numeric_subset, categorical_subset], axis = 1)"
   ]
  },
  {
   "cell_type": "code",
   "execution_count": null,
   "metadata": {
    "collapsed": true
   },
   "outputs": [],
   "source": [
    "# Find all correlations and sort \n",
    "correlations_data = df.corr()['rating'].sort_values()\n",
    "\n",
    "# Print the most negative correlations\n",
    "print(correlations_data.head(15), '\\n')\n",
    "\n",
    "# Print the most positive correlations\n",
    "print(correlations_data.tail(15))"
   ]
  },
  {
   "cell_type": "code",
   "execution_count": null,
   "metadata": {
    "collapsed": true
   },
   "outputs": [],
   "source": [
    "def remove_collinear_features(x, threshold):\n",
    "    '''\n",
    "    Objective:\n",
    "        Remove collinear features in a dataframe with a correlation coefficient\n",
    "        greater than the threshold. Removing collinear features can help a model\n",
    "        to generalize and improves the interpretability of the model.\n",
    "        \n",
    "    Inputs: \n",
    "        threshold: any features with correlations greater than this value are removed\n",
    "    \n",
    "    Output: \n",
    "        dataframe that contains only the non-highly-collinear features\n",
    "    '''\n",
    "    \n",
    "    # Dont want to remove correlations between Energy Star Score\n",
    "    y = x['rating']\n",
    "#     x = x.drop(columns = ['score'])\n",
    "    x = x.drop(['rating'], axis = 1)\n",
    "\n",
    "    \n",
    "    # Calculate the correlation matrix\n",
    "    corr_matrix = x.corr()\n",
    "    iters = range(len(corr_matrix.columns) - 1)\n",
    "    drop_cols = []\n",
    "\n",
    "    # Iterate through the correlation matrix and compare correlations\n",
    "    for i in iters:\n",
    "        for j in range(i):\n",
    "            item = corr_matrix.iloc[j:(j+1), (i+1):(i+2)]\n",
    "            col = item.columns\n",
    "            row = item.index\n",
    "            val = abs(item.values)\n",
    "            \n",
    "            # If correlation exceeds the threshold\n",
    "            if val >= threshold:\n",
    "                # Print the correlated features and the correlation value\n",
    "                print(col.values[0], \"|\", row.values[0], \"|\", round(val[0][0], 2))\n",
    "                drop_cols.append(col.values[0])\n",
    "\n",
    "    # Drop one of each pair of correlated columns\n",
    "    drops = set(drop_cols)\n",
    "    x = x.drop(drops, axis = 1)\n",
    "#     x = x.drop(['Weather Normalized Site EUI (kBtu/ft²)', \n",
    "#                 'Water Use (All Water Sources) (kgal)',\n",
    "#                 'log_Water Use (All Water Sources) (kgal)',\n",
    "#                 'Largest Property Use Type - Gross Floor Area (ft²)'], axis = 1)\n",
    "    \n",
    "    # Add the score back in to the data\n",
    "    x['rating'] = y\n",
    "               \n",
    "    return x"
   ]
  },
  {
   "cell_type": "code",
   "execution_count": null,
   "metadata": {
    "collapsed": true
   },
   "outputs": [],
   "source": [
    "features = df.copy()\n",
    "features = remove_collinear_features(features, 0.65)"
   ]
  },
  {
   "cell_type": "code",
   "execution_count": null,
   "metadata": {
    "collapsed": true
   },
   "outputs": [],
   "source": [
    "# Remove any columns with all na values\n",
    "features = features.dropna(axis=1, how = 'all')\n"
   ]
  },
  {
   "cell_type": "code",
   "execution_count": null,
   "metadata": {
    "collapsed": true
   },
   "outputs": [],
   "source": [
    "# Extract the buildings with no score and the buildings with a score\n",
    "no_score = features[features['rating'].isnull()]\n",
    "score = features[features['rating'].notnull()]\n",
    "\n",
    "print(no_score.shape)\n",
    "print(score.shape)"
   ]
  },
  {
   "cell_type": "code",
   "execution_count": null,
   "metadata": {
    "collapsed": true
   },
   "outputs": [],
   "source": [
    "# Separate out the features and targets\n",
    "features = score.drop(['rating'], axis=1)\n",
    "targets = pd.DataFrame(score['rating'])\n",
    "\n",
    "# Replace the inf and -inf with nan (required for later imputation)\n",
    "# features = features.replace({np.inf: np.nan, -np.inf: np.nan})\n",
    "\n",
    "# Split into 70% training and 30% testing set\n",
    "X, X_test, y, y_test = train_test_split(features, targets, test_size = 0.3, random_state = 42)\n",
    "\n",
    "print(X.shape)\n",
    "print(X_test.shape)\n",
    "print(y.shape)\n",
    "print(y_test.shape)"
   ]
  },
  {
   "cell_type": "code",
   "execution_count": null,
   "metadata": {
    "collapsed": true
   },
   "outputs": [],
   "source": [
    "# Function to calculate mean absolute error\n",
    "def mae(y_true, y_pred):\n",
    "    return np.mean(abs(y_true - y_pred))\n",
    "\n",
    "baseline_guess = np.median(y)\n",
    "print('The baseline guess is a score of %0.2f' % baseline_guess)\n",
    "print(\"Baseline Performance on the test set: MAE = %0.2f\" % mae(y_test, baseline_guess))"
   ]
  },
  {
   "cell_type": "code",
   "execution_count": null,
   "metadata": {
    "collapsed": true
   },
   "outputs": [],
   "source": [
    "no_score.to_csv('RatingData/no_score.csv', index = False)\n",
    "X.to_csv('RatingData/training_features.csv', index = False)\n",
    "X_test.to_csv('RatingData/testing_features.csv', index = False)\n",
    "y.to_csv('RatingData/training_labels.csv', index = False)\n",
    "y_test.to_csv('RatingData/testing_labels.csv', index = False)"
   ]
  },
  {
   "cell_type": "code",
   "execution_count": null,
   "metadata": {
    "collapsed": true
   },
   "outputs": [],
   "source": []
  }
 ],
 "metadata": {
  "kernelspec": {
   "display_name": "Python 3",
   "language": "python",
   "name": "python3"
  },
  "language_info": {
   "codemirror_mode": {
    "name": "ipython",
    "version": 3
   },
   "file_extension": ".py",
   "mimetype": "text/x-python",
   "name": "python",
   "nbconvert_exporter": "python",
   "pygments_lexer": "ipython3",
   "version": "3.6.4"
  }
 },
 "nbformat": 4,
 "nbformat_minor": 2
}
